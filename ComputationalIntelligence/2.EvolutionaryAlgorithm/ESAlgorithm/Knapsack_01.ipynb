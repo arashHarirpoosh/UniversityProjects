{
 "cells": [
  {
   "cell_type": "heading",
   "metadata": {
    "collapsed": true
   },
   "level": 3,
   "source": [
    "Import necessary libraries"
   ]
  },
  {
   "cell_type": "code",
   "execution_count": 1,
   "metadata": {},
   "outputs": [],
   "source": [
    "import random as rd\n",
    "from random import randint\n",
    "import numpy as np, random, matplotlib.pyplot as plt\n",
    "import time"
   ]
  },
  {
   "cell_type": "heading",
   "metadata": {},
   "level": 1,
   "source": [
    "Create Class for managing Items"
   ]
  },
  {
   "cell_type": "code",
   "execution_count": 2,
   "metadata": {},
   "outputs": [],
   "source": [
    "class Item:\n",
    "    def __init__(self, weight, value):\n",
    "        self.weight = int(weight)\n",
    "        self.value = int(value)\n",
    "\n",
    "    def worthiness(self, item):\n",
    "        return item.value/item.weight"
   ]
  },
  {
   "cell_type": "heading",
   "metadata": {},
   "level": 1,
   "source": [
    "Create Class for calculating Fitness"
   ]
  },
  {
   "cell_type": "code",
   "execution_count": 3,
   "metadata": {},
   "outputs": [],
   "source": [
    "class Fitness:\n",
    "    def __init__(self, bag, Items, maxCap):\n",
    "        self.bag = bag\n",
    "        self.Items = Items\n",
    "        self.maxCapacity = int(maxCap)\n",
    "        self.fitness = 0\n",
    "\n",
    "    # Calculate the fitness of individuals\n",
    "    def bagFitness(self):\n",
    "        values = [x.value for x in self.Items]\n",
    "        weights = [x.weight for x in self.Items]\n",
    "        totalVal = np.sum(self.bag * values)\n",
    "        totalWeight = np.sum(self.bag * weights)\n",
    "        if totalWeight <= self.maxCapacity:\n",
    "            self.fitness = totalVal\n",
    "        else:\n",
    "            self.fitness = 0\n",
    "        return self.fitness"
   ]
  },
  {
   "cell_type": "heading",
   "metadata": {},
   "level": 1,
   "source": [
    "Fuctions for reading data from files and convert it to suotable form"
   ]
  },
  {
   "cell_type": "code",
   "execution_count": 4,
   "metadata": {},
   "outputs": [],
   "source": [
    "NumOfItems = None\n",
    "weightOfKnapsack = None\n",
    "\n",
    "# Read the data from the file\n",
    "def read_data(filename):\n",
    "    with open(filename) as f:\n",
    "        Items = f.readlines()\n",
    "        return Items\n",
    "\n",
    "# Return all of the items in the file in a suitable format\n",
    "def all_items(items):\n",
    "    all_item = []\n",
    "    for i in items:\n",
    "        items_info = i.rsplit()\n",
    "        item = Item(items_info[1], items_info[0])\n",
    "        all_item.append(item)\n",
    "    return all_item"
   ]
  },
  {
   "cell_type": "heading",
   "metadata": {},
   "level": 1,
   "source": [
    "GA Functions"
   ]
  },
  {
   "cell_type": "markdown",
   "metadata": {},
   "source": [
    "Functions for Creating our First Generations"
   ]
  },
  {
   "cell_type": "code",
   "execution_count": 5,
   "metadata": {},
   "outputs": [],
   "source": [
    "# Create the first population\n",
    "def initialPopulation(popSize, numOfItems):\n",
    "    all_initial_population = []\n",
    "    for i in range(popSize):\n",
    "        initial_population = np.zeros((numOfItems, ))\n",
    "        randNum = np.random.randint(0, NumOfItems-1, 1)\n",
    "        initial_population[randNum] = 1\n",
    "        initial_population = initial_population.astype(int)\n",
    "        all_initial_population.append(initial_population)\n",
    "    return np.array(all_initial_population)"
   ]
  },
  {
   "cell_type": "markdown",
   "metadata": {},
   "source": [
    "Function for calculating fitness of the population"
   ]
  },
  {
   "cell_type": "code",
   "execution_count": 6,
   "metadata": {},
   "outputs": [],
   "source": [
    "# Calculate Fitness of the population\n",
    "def popFitness(population, items):\n",
    "    fitnessResults = np.empty(len(population))\n",
    "    for i in range(len(population)):\n",
    "        fitnessResults[i] = Fitness(population[i],items, weightOfKnapsack).bagFitness()\n",
    "    return fitnessResults.astype(int)"
   ]
  },
  {
   "cell_type": "heading",
   "metadata": {},
   "level": 1,
   "source": [
    "Functions for selecting the parents of next generation"
   ]
  },
  {
   "cell_type": "code",
   "execution_count": 7,
   "metadata": {},
   "outputs": [],
   "source": [
    "# Select the remaining individuals\n",
    "def selection(fit, remainingSize):\n",
    "    fitness = list(fit)\n",
    "    length = len(fit) - remainingSize\n",
    "    selectionResults = np.zeros((len(fit), ))\n",
    "    for i in range(remainingSize):\n",
    "        selectionResults[i] = fit[i]\n",
    "        fitness[i] = -999999\n",
    "\n",
    "    for i in range(length):\n",
    "        max_fitness_idx = np.where(fit == np.max(fitness))\n",
    "        selectionResults[i] = int(max_fitness_idx[0][0])\n",
    "        fitness[max_fitness_idx[0][0]] = -999999\n",
    "    return selectionResults"
   ]
  },
  {
   "cell_type": "code",
   "execution_count": 8,
   "metadata": {},
   "outputs": [],
   "source": [
    "# Selecting the parents of the next Generation\n",
    "def matingPool(population, selectionResults):\n",
    "    matingpool = []\n",
    "    # print(len(selectionResults))\n",
    "    for i in range(0, len(selectionResults)):\n",
    "        index = selectionResults[i]\n",
    "        matingpool.append(population[int(index)])\n",
    "    return matingpool"
   ]
  },
  {
   "cell_type": "heading",
   "metadata": {},
   "level": 1,
   "source": [
    "Functions to create crossover"
   ]
  },
  {
   "cell_type": "code",
   "execution_count": 9,
   "metadata": {},
   "outputs": [],
   "source": [
    "# Create a crossover function for two parents to create one child\n",
    "def crossOver(parent1, parent2, items, crossover_rate):\n",
    "    offspring = np.empty(len(parent2))\n",
    "    geneA = int(random.random() * len(parent1))\n",
    "    geneB = int(random.random() * len(parent1))\n",
    "    startGene = min(geneA, geneB)\n",
    "    endGene = max(geneA, geneB)\n",
    "\n",
    "    fit_par1 = Fitness(parent1, items, weightOfKnapsack).bagFitness()\n",
    "    fit_par2 = Fitness(parent2, items, weightOfKnapsack).bagFitness()\n",
    "    if fit_par1 > fit_par2:\n",
    "        stronger_parent = parent1\n",
    "        weaker_parent = parent2\n",
    "\n",
    "    else:\n",
    "        stronger_parent = parent2\n",
    "        weaker_parent = parent1\n",
    "\n",
    "    x = rd.random()\n",
    "    if x < crossover_rate:\n",
    "        offspring[startGene:endGene] = stronger_parent[startGene:endGene]\n",
    "        offspring[endGene:] = weaker_parent[endGene:]\n",
    "        offspring[:startGene] = weaker_parent[:startGene]\n",
    "\n",
    "    elif x == crossover_rate:\n",
    "        offspring = stronger_parent\n",
    "\n",
    "    else:\n",
    "        offspring = weaker_parent\n",
    "\n",
    "    return offspring"
   ]
  },
  {
   "cell_type": "code",
   "execution_count": 10,
   "metadata": {},
   "outputs": [],
   "source": [
    "# Create function to run crossover over all of population pair\n",
    "def crossoverPopulation(matingpool, remainingSize, items, crossover_rate):\n",
    "    children = []\n",
    "    length = len(matingpool) - remainingSize\n",
    "\n",
    "    pool = random.sample(matingpool, len(matingpool))\n",
    "\n",
    "    for i in range(0, remainingSize):\n",
    "        children.append(matingpool[i])\n",
    "\n",
    "    for i in range(0, length):\n",
    "        i = np.random.randint(0, len(children))\n",
    "        child = crossOver(pool[i], pool[len(matingpool) - i - 1], items, crossover_rate)\n",
    "        children.append(child)\n",
    "    return np.array(children).astype(int)"
   ]
  },
  {
   "cell_type": "heading",
   "metadata": {},
   "level": 1,
   "source": [
    "Function to create mutation in our generation"
   ]
  },
  {
   "cell_type": "code",
   "execution_count": 11,
   "metadata": {},
   "outputs": [],
   "source": [
    "# Create mutation over all of our population\n",
    "def mutatePopulation(population, mutationRate):\n",
    "    mutants = [x for x in population]\n",
    "    for i in range(len(population)):\n",
    "        random_value = rd.random()\n",
    "        if random_value > mutationRate:\n",
    "            continue\n",
    "        int_random_value = randint(0,len(population[i])-1)\n",
    "        if mutants[i][int_random_value] == 0 :\n",
    "            mutants[i][int_random_value] = 1\n",
    "        else :\n",
    "            mutants[i][int_random_value] = 0\n",
    "    return mutants"
   ]
  },
  {
   "cell_type": "heading",
   "metadata": {},
   "level": 1,
   "source": [
    "Create our next Generation"
   ]
  },
  {
   "cell_type": "code",
   "execution_count": 12,
   "metadata": {},
   "outputs": [],
   "source": [
    "# Create the next generation by pulling all steps together\n",
    "def nextGeneration(currentGen, remainingSize, mutationRate, crossover_rate, items):\n",
    "    popRanked = popFitness(currentGen, items)\n",
    "    selectionResults = selection(popRanked, remainingSize)\n",
    "    matingpool = matingPool(currentGen, selectionResults)\n",
    "    children = crossoverPopulation(matingpool, remainingSize, items, crossover_rate)\n",
    "    nextGeneration = mutatePopulation(children, mutationRate)\n",
    "    return nextGeneration"
   ]
  },
  {
   "cell_type": "heading",
   "metadata": {},
   "level": 1,
   "source": [
    "GA algorithm"
   ]
  },
  {
   "cell_type": "code",
   "execution_count": 13,
   "metadata": {},
   "outputs": [],
   "source": [
    "# Final step: create the genetic algorithm\n",
    "def geneticAlgorithm(items, popSize, remainingSize, mutationRate, crossover_rate, generations, plot=True):\n",
    "    pop = initialPopulation(popSize, len(items))\n",
    "    maxValHist = []\n",
    "    sum_fit = []\n",
    "    values = np.array(pop) * [x.value for x in items]\n",
    "    weights = np.array(pop) * [x.weight for x in items]\n",
    "\n",
    "    for f in popFitness(pop, items):\n",
    "        sum_fit.append(np.sum(f))\n",
    "    maxValHist.append(np.max(sum_fit))\n",
    "\n",
    "    max_weight = 0\n",
    "    for v in range(len(values)):\n",
    "        if np.sum(values[v]) == maxValHist[0]:\n",
    "            max_weight = np.sum(weights[v])\n",
    "            break\n",
    "\n",
    "    print(\"Initial Value: \" + str(maxValHist[0])+ \", Initial Weight: \" + str(max_weight))\n",
    "\n",
    "    for i in range(0, generations):\n",
    "        pop = nextGeneration(pop, remainingSize, mutationRate, crossover_rate, items)\n",
    "        if plot:\n",
    "            sum_fit = []\n",
    "            for j in popFitness(pop, items):\n",
    "                sum_fit.append(np.sum(j))\n",
    "            maxValHist.append(np.max(sum_fit))\n",
    "\n",
    "    fitness_last_gen = popFitness(pop, items)\n",
    "    max_value = np.max(fitness_last_gen)\n",
    "    values = np.array(pop) * [x.value for x in items]\n",
    "    weights = np.array(pop) * [x.weight for x in items]\n",
    "    max_weight = 0\n",
    "    for v in range(len(values)):\n",
    "        if np.sum(values[v]) == max_value:\n",
    "            max_weight = np.sum(weights[v])\n",
    "            break\n",
    "\n",
    "    print(\"Max value is : \" + str(max_value) + \" and knapsack weight is : \" + str(max_weight))\n",
    "    if plot:\n",
    "        plt.plot(maxValHist, color='blue', linestyle='dotted')\n",
    "        plt.ylabel('MaxValue')\n",
    "        plt.xlabel('Generation')\n",
    "        plt.show()\n",
    "    return max_value"
   ]
  },
  {
   "cell_type": "heading",
   "metadata": {},
   "level": 1,
   "source": [
    "Run the algorithm"
   ]
  },
  {
   "cell_type": "code",
   "execution_count": 19,
   "metadata": {},
   "outputs": [
    {
     "name": "stdout",
     "output_type": "stream",
     "text": [
      "Initial Value: 997, Initial Weight: 199\n"
     ]
    },
    {
     "name": "stdout",
     "output_type": "stream",
     "text": [
      "Max value is : 8759 and knapsack weight is : 970\n"
     ]
    },
    {
     "data": {
      "image/png": "[encoded data removed]",
      "text/plain": [
       "<Figure size 432x288 with 1 Axes>"
      ]
     },
     "metadata": {},
     "output_type": "display_data"
    },
    {
     "name": "stdout",
     "output_type": "stream",
     "text": [
      "elapsed time is:  0.5686287403106689 min\n"
     ]
    }
   ],
   "source": [
    "if __name__ == '__main__':\n",
    "    start = time.time()\n",
    "        \n",
    "    readItems = read_data('knapsack_1.txt')\n",
    "    info = readItems[0].rsplit()\n",
    "    NumOfItems = int(info[0])\n",
    "    weightOfKnapsack = int(info[1])\n",
    "    item_list = all_items(readItems[1:])\n",
    "    geneticAlgorithm(items=item_list, popSize=100, remainingSize=25, mutationRate=0.4,crossover_rate=0.8, generations=1000)\n",
    "    \n",
    "    end = time.time()\n",
    "    print('elapsed time is: ', (end-start)/60.0, 'min')"
   ]
  },
  {
   "cell_type": "code",
   "execution_count": null,
   "metadata": {},
   "outputs": [],
   "source": [
    ""
   ]
  }
 ],
 "metadata": {
  "kernelspec": {
   "display_name": "Python 2",
   "language": "python",
   "name": "python2"
  },
  "language_info": {
   "codemirror_mode": {
    "name": "ipython",
    "version": 2.0
   },
   "file_extension": ".py",
   "mimetype": "text/x-python",
   "name": "python",
   "nbconvert_exporter": "python",
   "pygments_lexer": "ipython2",
   "version": "2.7.6"
  }
 },
 "nbformat": 4,
 "nbformat_minor": 0
}