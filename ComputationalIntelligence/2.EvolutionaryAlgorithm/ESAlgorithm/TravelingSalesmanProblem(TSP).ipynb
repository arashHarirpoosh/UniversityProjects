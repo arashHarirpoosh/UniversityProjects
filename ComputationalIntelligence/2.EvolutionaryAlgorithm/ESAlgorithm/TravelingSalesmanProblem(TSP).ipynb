{
 "cells": [
  {
   "cell_type": "heading",
   "metadata": {
    "collapsed": true
   },
   "level": 3,
   "source": [
    "Import necessary libraries"
   ]
  },
  {
   "cell_type": "code",
   "execution_count": 1,
   "metadata": {},
   "outputs": [],
   "source": [
    "import numpy as np\n",
    "import random, operator, pandas as pd, matplotlib.pyplot as plt\n",
    "import time"
   ]
  },
  {
   "cell_type": "heading",
   "metadata": {},
   "level": 1,
   "source": [
    "Create Class for managing cities"
   ]
  },
  {
   "cell_type": "code",
   "execution_count": 2,
   "metadata": {},
   "outputs": [],
   "source": [
    "class City:\n",
    "    def __init__(self,i, x, y):\n",
    "        self.i = int(i)\n",
    "        self.x = float(x)\n",
    "        self.y = float(y)\n",
    "\n",
    "    # Calculate the distance between two cities\n",
    "    def distance(self, city):\n",
    "        xDis = abs(self.x - city.x)\n",
    "        yDis = abs(self.y - city.y)\n",
    "        distance = np.sqrt((xDis ** 2) + (yDis ** 2))\n",
    "        return distance\n",
    "\n",
    "    def __repr__(self):\n",
    "        return \"(\" + str(self.x) + \",\" + str(self.y) + \")\""
   ]
  },
  {
   "cell_type": "heading",
   "metadata": {},
   "level": 1,
   "source": [
    "Create Class for calculating Fitness"
   ]
  },
  {
   "cell_type": "code",
   "execution_count": 3,
   "metadata": {},
   "outputs": [],
   "source": [
    "class Fitness:\n",
    "    def __init__(self, route):\n",
    "        self.route = route\n",
    "        self.distance = 0.0\n",
    "        self.fitness = 0.0\n",
    "\n",
    "    # Calculate the distance for one individual\n",
    "    def routeDistance(self):\n",
    "        if self.distance == 0:\n",
    "            pathDistance = 0\n",
    "            for i in range(0, len(self.route)):\n",
    "                fromCity = self.route[i]\n",
    "                toCity = None\n",
    "                if i + 1 < len(self.route):\n",
    "                    toCity = self.route[i + 1]\n",
    "                else:\n",
    "                    toCity = self.route[0]\n",
    "                pathDistance += fromCity.distance(toCity)\n",
    "            self.distance = pathDistance\n",
    "        return self.distance\n",
    "\n",
    "    # Calculate fitness for one individual\n",
    "    def routeFitness(self):\n",
    "        if self.fitness == 0:\n",
    "            self.fitness = 1 / float(self.routeDistance())\n",
    "        return self.fitness"
   ]
  },
  {
   "cell_type": "markdown",
   "metadata": {},
   "source": [
    "Fuctions for reading data from files and convert it to suotable form"
   ]
  },
  {
   "cell_type": "code",
   "execution_count": 4,
   "metadata": {},
   "outputs": [],
   "source": [
    "# Read the data from the file\n",
    "def read_data(filename):\n",
    "    with open(filename) as f:\n",
    "        data = f.readlines()\n",
    "        return data\n",
    "\n",
    "# Return all of the cities in the file in a suitable format\n",
    "def all_Citys(citys):\n",
    "    all_city = []\n",
    "    for c in citys:\n",
    "        city_info = c.rsplit()\n",
    "        city = City(i=city_info[0], x=city_info[1], y=city_info[2])\n",
    "        all_city.append(city)\n",
    "    return all_city"
   ]
  },
  {
   "cell_type": "heading",
   "metadata": {},
   "level": 2,
   "source": [
    "GA Functions"
   ]
  },
  {
   "cell_type": "markdown",
   "metadata": {},
   "source": [
    "Functions for Creating our First Generations"
   ]
  },
  {
   "cell_type": "code",
   "execution_count": 5,
   "metadata": {},
   "outputs": [],
   "source": [
    "# Create one individual\n",
    "def createRoute(cityList):\n",
    "    route = random.sample(cityList, len(cityList))\n",
    "    return route\n",
    "\n",
    "# Create the first population\n",
    "def initialPopulation(popSize, cityList):\n",
    "    population = []\n",
    "    for i in range(0, popSize):\n",
    "        population.append(createRoute(cityList))\n",
    "\n",
    "    return population"
   ]
  },
  {
   "cell_type": "markdown",
   "metadata": {},
   "source": [
    "specify the ranks of the individuals by theire Fitness property"
   ]
  },
  {
   "cell_type": "code",
   "execution_count": 6,
   "metadata": {},
   "outputs": [],
   "source": [
    "# Rank individuals\n",
    "def rankRoutes(population):\n",
    "    fitnessResults = {}\n",
    "    for i in range(0,len(population)):\n",
    "        fitnessResults[i] = Fitness(population[i]).routeFitness()\n",
    "    return sorted(fitnessResults.items(), key = operator.itemgetter(1), reverse = True)"
   ]
  },
  {
   "cell_type": "heading",
   "metadata": {},
   "level": 3,
   "source": [
    "Functions for selecting the next Generation parents"
   ]
  },
  {
   "cell_type": "code",
   "execution_count": 7,
   "metadata": {},
   "outputs": [],
   "source": [
    "# Create a selection function that will be used to make the list of parent routes\n",
    "def selection(popRanked, remainingSize):\n",
    "    selectionResults = []\n",
    "    df = pd.DataFrame(np.array(popRanked), columns=[\"Index\", \"Fitness\"])\n",
    "    df['cum_sum'] = df.Fitness.cumsum()\n",
    "    df['cum_perc'] = 100 * df.cum_sum / df.Fitness.sum()\n",
    "\n",
    "    for i in range(0, remainingSize):\n",
    "        selectionResults.append(popRanked[i][0])\n",
    "\n",
    "    for i in range(0, len(popRanked) - remainingSize):\n",
    "        pick = 100 * random.random()\n",
    "        for i in range(0, len(popRanked)):\n",
    "            if pick <= df.iat[i, 3]:\n",
    "                selectionResults.append(popRanked[i][0])\n",
    "                break\n",
    "\n",
    "    return selectionResults"
   ]
  },
  {
   "cell_type": "code",
   "execution_count": 8,
   "metadata": {},
   "outputs": [],
   "source": [
    "# Selecting the parents of the next Generation\n",
    "def matingPool(population, selectionResults):\n",
    "    matingpool = []\n",
    "    # while len(matingpool) != len(selectionResults):\n",
    "    for i in range(0, len(selectionResults)):\n",
    "        index = selectionResults[i]\n",
    "        # if population[index] not in matingpool:\n",
    "        matingpool.append(population[index])\n",
    "    return matingpool"
   ]
  },
  {
   "cell_type": "heading",
   "metadata": {},
   "level": 3,
   "source": [
    "Functions to create crossover"
   ]
  },
  {
   "cell_type": "code",
   "execution_count": 9,
   "metadata": {},
   "outputs": [],
   "source": [
    "# Create a crossover function for two parents to create one child (should be changed)\n",
    "def crossover(parent1, parent2, crossover_rate):\n",
    "    geneA = int(random.random() * len(parent1))\n",
    "    geneB = int(random.random() * len(parent1))\n",
    "    startGene = min(geneA, geneB)\n",
    "    endGene = max(geneA, geneB)\n",
    "\n",
    "    fit_par1 = Fitness(parent1).routeFitness()\n",
    "    fit_par2 = Fitness(parent2).routeFitness()\n",
    "    if fit_par1 > fit_par2:\n",
    "        stronger_parent = parent1\n",
    "        weaker_parent = parent2\n",
    "    else:\n",
    "        stronger_parent = parent2\n",
    "        weaker_parent = parent1\n",
    "\n",
    "    x = random.random()\n",
    "    if x > crossover_rate:\n",
    "        child = stronger_parent\n",
    "\n",
    "    else:\n",
    "        child1 = []\n",
    "\n",
    "        for i in range(startGene, endGene):\n",
    "            child1.append(stronger_parent[i])\n",
    "\n",
    "        child2 = [item for item in weaker_parent if item not in child1]\n",
    "        child =child1 + child2\n",
    "    return child"
   ]
  },
  {
   "cell_type": "code",
   "execution_count": 10,
   "metadata": {},
   "outputs": [],
   "source": [
    "# Create function to run crossover over all of population pair\n",
    "def crossoverPopulation(matingpool, remainingSize, crossover_rate):\n",
    "    children = []\n",
    "    length = len(matingpool) - remainingSize\n",
    "    pool = random.sample(matingpool, len(matingpool))\n",
    "\n",
    "    for i in range(0, remainingSize):\n",
    "        children.append(matingpool[i])\n",
    "\n",
    "\n",
    "    while len(children) - remainingSize != length:\n",
    "        par_index = np.random.randint(0, len(pool),2)\n",
    "        if pool[par_index[0]] == pool[par_index[1]]:\n",
    "            continue\n",
    "        child = crossover(pool[par_index[0]], pool[par_index[1]], crossover_rate)\n",
    "        if child not in children:\n",
    "            children.append(child)\n",
    "\n",
    "    return children"
   ]
  },
  {
   "cell_type": "heading",
   "metadata": {},
   "level": 1,
   "source": [
    "Functions to create mutation in our generation"
   ]
  },
  {
   "cell_type": "code",
   "execution_count": 11,
   "metadata": {},
   "outputs": [],
   "source": [
    "# Create mutation for a single route\n",
    "def mutate(individual, mutationRate):\n",
    "    for swapped in range(len(individual)):\n",
    "        if (random.random() < mutationRate):\n",
    "            swapWith = int(random.random() * len(individual))\n",
    "\n",
    "            city1 = individual[swapped]\n",
    "            city2 = individual[swapWith]\n",
    "\n",
    "            individual[swapped] = city2\n",
    "            individual[swapWith] = city1\n",
    "    return individual"
   ]
  },
  {
   "cell_type": "code",
   "execution_count": 12,
   "metadata": {},
   "outputs": [],
   "source": [
    "# Create mutation over all of our population\n",
    "def mutatePopulation(population, mutationRate):\n",
    "    mutatedPop = []\n",
    "    length = len(population)\n",
    "\n",
    "    while len(mutatedPop) != length:\n",
    "        ind = np.random.randint(0, length)\n",
    "        mutatedInd = mutate(population[ind], mutationRate)\n",
    "\n",
    "        if mutatedInd not in mutatedPop:\n",
    "            mutatedPop.append(mutatedInd)\n",
    "\n",
    "    return mutatedPop"
   ]
  },
  {
   "cell_type": "heading",
   "metadata": {},
   "level": 3,
   "source": [
    "Create our next Generation"
   ]
  },
  {
   "cell_type": "code",
   "execution_count": 13,
   "metadata": {},
   "outputs": [],
   "source": [
    "# Create the next generation by pulling all steps together\n",
    "def nextGeneration(currentGen, remainingSize, mutationRate, crossover_rate):\n",
    "    popRanked = rankRoutes(currentGen)\n",
    "    selectionResults = selection(popRanked, remainingSize)\n",
    "    matingpool = matingPool(currentGen, selectionResults)\n",
    "    children = crossoverPopulation(matingpool, remainingSize, crossover_rate)\n",
    "    nextGeneration = mutatePopulation(children, mutationRate)\n",
    "    return nextGeneration"
   ]
  },
  {
   "cell_type": "heading",
   "metadata": {},
   "level": 3,
   "source": [
    "GA algorithm"
   ]
  },
  {
   "cell_type": "code",
   "execution_count": 14,
   "metadata": {},
   "outputs": [],
   "source": [
    "# Final step: create the genetic algorithm\n",
    "def geneticAlgorithm(population, popSize, remainingSize, mutationRate, crossover_rate, generations, plot= True):\n",
    "    pop = initialPopulation(popSize, population)\n",
    "    fit = []\n",
    "    dis = []\n",
    "    if plot:\n",
    "        rank = rankRoutes(pop)[0][1]\n",
    "        fit.append(rank)\n",
    "        dis.append(1/rank)\n",
    "\n",
    "    print(\"Initial distance: \" + str(1 / rankRoutes(pop)[0][1]))\n",
    "\n",
    "    for i in range(0, generations):\n",
    "        pop = nextGeneration(pop, remainingSize, mutationRate, crossover_rate)\n",
    "        if plot:\n",
    "            rank = rankRoutes(pop)[0][1]\n",
    "            fit.append(rank)\n",
    "            dis.append(1/rank)\n",
    "\n",
    "    print(\"Final distance: \" + str(1 / rankRoutes(pop)[0][1]))\n",
    "    if plot:\n",
    "        plt.plot(fit, color='blue', linestyle='dotted')\n",
    "        plt.ylabel('Fit')\n",
    "        plt.xlabel('Generation')\n",
    "        plt.show()\n",
    "        plt.plot(dis, color='blue', linestyle='dotted')\n",
    "        plt.ylabel('Distance')\n",
    "        plt.xlabel('Generation')\n",
    "        plt.show()\n",
    "\n",
    "    bestRouteIndex = rankRoutes(pop)[0][0]\n",
    "    bestRoute = pop[bestRouteIndex]\n",
    "    return bestRoute"
   ]
  },
  {
   "cell_type": "heading",
   "metadata": {},
   "level": 2,
   "source": [
    "Run the algorithm"
   ]
  },
  {
   "cell_type": "code",
   "execution_count": 15,
   "metadata": {
    "collapsed": false
   },
   "outputs": [
    {
     "name": "stdout",
     "output_type": "stream",
     "text": [
      "Initial distance: 82235.88503450878\n"
     ]
    },
    {
     "name": "stdout",
     "output_type": "stream",
     "text": [
      "Final distance: 24331.859337437807\n"
     ]
    },
    {
     "data": {
      "image/png": "[encoded data removed]",
      "text/plain": [
       "<Figure size 432x288 with 1 Axes>"
      ]
     },
     "metadata": {},
     "output_type": "display_data"
    },
    {
     "data": {
      "image/png": "[encoded data removed]",
      "text/plain": [
       "<Figure size 432x288 with 1 Axes>"
      ]
     },
     "metadata": {},
     "output_type": "display_data"
    },
    {
     "name": "stdout",
     "output_type": "stream",
     "text": [
      "elapsed time is:  11.426928357283275 min\n"
     ]
    }
   ],
   "source": [
    "if __name__ == '__main__':\n",
    "\n",
    "    start = time.time()\n",
    "\n",
    "    cityList = all_Citys(read_data('tsp_data.txt'))\n",
    "    bestRoute = geneticAlgorithm(population=cityList, popSize=200,\n",
    "                                 remainingSize=50, mutationRate=0.0001, crossover_rate=0.8, generations=1000)\n",
    "    end = time.time()\n",
    "    \n",
    "    print('elapsed time is: ', (end-start)/60.0, 'min')"
   ]
  },
  {
   "cell_type": "code",
   "execution_count": null,
   "metadata": {},
   "outputs": [],
   "source": [
    ""
   ]
  }
 ],
 "metadata": {
  "kernelspec": {
   "display_name": "Python 2",
   "language": "python",
   "name": "python2"
  },
  "language_info": {
   "codemirror_mode": {
    "name": "ipython",
    "version": 2.0
   },
   "file_extension": ".py",
   "mimetype": "text/x-python",
   "name": "python",
   "nbconvert_exporter": "python",
   "pygments_lexer": "ipython2",
   "version": "2.7.6"
  }
 },
 "nbformat": 4,
 "nbformat_minor": 0
}